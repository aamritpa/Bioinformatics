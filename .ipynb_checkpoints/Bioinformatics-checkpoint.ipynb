{
 "cells": [
  {
   "cell_type": "code",
   "execution_count": 1,
   "metadata": {},
   "outputs": [],
   "source": [
    "#!/usr/bin/env python\n",
    "# coding: utf-8\n",
    "\n",
    "# In[38]:\n",
    "\n",
    "\n",
    "import numpy as np\n",
    "import pandas as pd\n",
    "import re \n",
    "import matplotlib.pyplot as plt \n",
    "import sys\n",
    "import time\n",
    "\n",
    "\n",
    "\n",
    "#Input file must be given to run the code.\n",
    "#For Example Run(in terminal) 'python3 Bioinformatics input.xlsx'\n",
    "\n",
    "#Filename =sys.argv[1] # Read input file \n",
    "df = pd.read_excel('updatedBigDataInput.xlsx')# Read EXCEL Files and storing in database 'df'\n",
    "\n",
    "\n",
    "data= pd.DataFrame()# Creating New Data Frame \n",
    "\n",
    "\n",
    "# Storing Usefull information From the database 'df' \n",
    "data['Entry']=df['Entry'] #Storing Entry\n",
    "data['Entry name']=df['Entry name']  #Storing Entry Name\n",
    "data['Protein names']=df['Protein names']  #Storing Protein Names\n",
    "data['Gene names']=df['Gene names'] # Storing Gene Names\n",
    "data['Length']=df['Length'] # Storing Length\n",
    "data['Organism']=df['Organism'] # Storing Type of Organism\n",
    "data['Mass']=df['Mass'] #Storing Mass\n",
    "data['Status']=df['Status']\n",
    "\n",
    "#Now removing the extra data we dont need and containg only organism 'Human'\n",
    "human_data=data[data['Organism'].str.contains(\"Homo sapiens\")] #Selecting only organism which contains 'Homo sapiens'\n",
    "data= human_data\n",
    "\n",
    "data['Disulfide bond']=df['Disulfide bond'] # Storing Disulfide bond \n",
    "data['Glycosylation']= df['Glycosylation']# Storing Glycosylation Position\n",
    "data=data.dropna().reset_index(drop=True) # Drop all rows which contains Not a number and reset the index \n",
    "\n",
    "# Working on getting the relative positions of the Disulfide bond\n",
    "disulfide_column1= data['Disulfide bond'] # Storing data temporary as 'disulfide_column'\n",
    "disulfide_column2= data['Disulfide bond']\n",
    "\n",
    "def get_sulfide_value(newdata):\n",
    "    return re.findall('\\d+\\..\\d+',newdata)\n",
    "\n",
    "bond= disulfide_column1.apply(get_sulfide_value) # Function call which gives all the positons \n",
    "data['Disulfide bond']=disulfide_column2.apply(get_sulfide_value)# Storing extracted disulfide value in data Frame."
   ]
  },
  {
   "cell_type": "code",
   "execution_count": 2,
   "metadata": {},
   "outputs": [],
   "source": [
    "def get_int_value(data):\n",
    "    return re.findall('\\d+',data)\n",
    "def get_float_value(data):\n",
    "    return re.findall('\\d+\\.\\d+',data)"
   ]
  },
  {
   "cell_type": "code",
   "execution_count": 3,
   "metadata": {},
   "outputs": [],
   "source": [
    "Glyco_data= data['Glycosylation'] # Storing data temporary as 'Glyco_data'\n",
    "def getGlycoNLinked(data):   #Making a Function to get the positions\n",
    "    return re.findall('CARBOHYD \\d+',data) # The return data will contain 'CARBOHYD position #'\n",
    "data['Glycosylation']= Glyco_data.apply(getGlycoNLinked) # the return data will be like 'CARBOHYD 110'\n",
    "#Now Removing the extra word 'N-linked' and getting all positions of Glycosylation.\n",
    "temp_data= data['Glycosylation'].astype(str)\n",
    "data['Glycosylation']= temp_data.apply(get_int_value) \n",
    "\n",
    "\n",
    "# Creating a temporary dataframe for total length in columns and length in rows(like number of pairs in each index).\n",
    "a= pd.DataFrame()\n",
    "b= pd.DataFrame()\n",
    "a =pd.Series(data['Glycosylation'])\n",
    "b =pd.Series(data['Disulfide bond'])\n",
    "lenB=b.str.len()\n",
    "lenA=a.str.len()\n",
    "\n",
    "rel_pos = pd.Series(a.size,dtype=np.str)\n",
    "for i in range(a.size):\n",
    "    rel_pos[i]=''\n",
    "    \n",
    "InsidePairs=pd.Series(b.size,dtype=np.str)\n",
    "InsidePairsLength=np.zeros(b.size,dtype=np.int)\n",
    "for i in range(a.size):\n",
    "    InsidePairs[i]=''\n",
    "\n",
    "# Now using loop and properties of Python library 're' to get values and finding positions between disulphide bond and glycosation.\n",
    "i=0\n",
    "while i<b.size:\n",
    "    for j in range(lenA[i]):\n",
    "        Position=int(a[i][j])\n",
    "        rel_pos[i]=rel_pos[i]+str(a[i][j])+'{|'\n",
    "        for k in range(lenB[i]):\n",
    "            split = re.findall('\\d+',b[i][k]) \n",
    "            firstPair= int(split[0])\n",
    "            secondPair=int(split[1])\n",
    "            if Position< firstPair:\n",
    "                rel_pos[i] = rel_pos[i]+'o'+str(Position-firstPair)\n",
    "                rel_pos[i] = rel_pos[i]+'o'+str(Position-secondPair)\n",
    "            elif Position>= firstPair and Position<=secondPair:\n",
    "                rel_pos[i]=  rel_pos[i]+'i' + str(Position-firstPair)\n",
    "                rel_pos[i] = rel_pos[i]+'i'+ str(Position-secondPair)\n",
    "                InsidePairs[i]= InsidePairs[i] + str('('+ str(firstPair)+','+str(secondPair)+')')\n",
    "                InsidePairsLength[i]=InsidePairsLength[i]+ (secondPair-firstPair)\n",
    "            else:\n",
    "                rel_pos[i] = rel_pos[i]+'o'+str(Position-firstPair)\n",
    "                rel_pos[i] = rel_pos[i]+'o'+str(Position-secondPair)\n",
    "            rel_pos[i]=rel_pos[i]+'|'    \n",
    "        rel_pos[i]=rel_pos[i]+'}'\n",
    "    i=i+1\n",
    "data['rel_pos']= rel_pos\n",
    "data['In_Gly_Dis_Pair']=InsidePairs"
   ]
  },
  {
   "cell_type": "code",
   "execution_count": null,
   "metadata": {},
   "outputs": [],
   "source": []
  },
  {
   "cell_type": "code",
   "execution_count": 4,
   "metadata": {},
   "outputs": [],
   "source": [
    "#Caluclating Score of each pairs of disulfide bonds\n",
    "# O score if other pair outside.\n",
    "# 0.5 score if other pair half inside and half outside.\n",
    "# 1.0 score if other pair full inside.\n",
    "array = pd.Series(a.size,dtype=np.str)\n",
    "for x in range(a.size):\n",
    "    array[x]=''\n",
    "\n",
    "for i in range(0,len(data)):\n",
    "    temp_array = np.zeros(lenB[i])\n",
    "    for j in range(0,lenB[i]):\n",
    "        for k in range(j+1,lenB[i]):\n",
    "            if k!=lenB[i]:\n",
    "                split1 = re.findall('\\d+',data['Disulfide bond'][i][j]) \n",
    "                p1e1=int(split1[0])\n",
    "                p1e2=int(split1[1])\n",
    "                split2 = re.findall('\\d+',data['Disulfide bond'][i][k]) \n",
    "                p2e1=int(split2[0])\n",
    "                p2e2=int(split2[1])\n",
    "            \n",
    "                if(p2e1>p1e2):\n",
    "                    temp_array[j]=temp_array[j]+0\n",
    "                    temp_array[k]=temp_array[k]+0\n",
    "                elif (p2e1<p1e2) and (p2e2>p1e2):\n",
    "                    temp_array[j]=temp_array[j]+0.5\n",
    "                    temp_array[k]=temp_array[k]+0.5    \n",
    "                elif (p2e1<p1e2) and (p2e2<p1e2):\n",
    "                    temp_array[j]=temp_array[j]+1.0\n",
    "                    temp_array[k]=temp_array[k]+0.0\n",
    "        array[i]=array[i]+str(temp_array[j])+','\n",
    "data['Disulfide_score']= array.apply(get_float_value)"
   ]
  },
  {
   "cell_type": "code",
   "execution_count": 5,
   "metadata": {
    "scrolled": false
   },
   "outputs": [],
   "source": [
    "#Claculating disulfide pair score average \n",
    "disulfie_pair_score_average = np.zeros(len(data),dtype=np.float)\n",
    "for i in range(len(data)):\n",
    "    for j in range(len(data['Disulfide_score'][i])):\n",
    "        disulfie_pair_score_average[i]= disulfie_pair_score_average[i]+ float(data['Disulfide_score'][i][j])\n",
    "data['disulfie_pair_score_average']=disulfie_pair_score_average"
   ]
  },
  {
   "cell_type": "code",
   "execution_count": null,
   "metadata": {},
   "outputs": [],
   "source": []
  },
  {
   "cell_type": "code",
   "execution_count": 6,
   "metadata": {},
   "outputs": [
    {
     "name": "stderr",
     "output_type": "stream",
     "text": [
      "C:\\Users\\Amritpal Singh\\Anaconda3\\lib\\site-packages\\ipykernel_launcher.py:72: RuntimeWarning: invalid value encountered in longlong_scalars\n"
     ]
    }
   ],
   "source": [
    "## Calculating Interbond Distance\n",
    "interbond_distance= pd.Series(a.size,dtype= np.str)\n",
    "\n",
    "for i in range(a.size):\n",
    "    interbond_distance[i]=''\n",
    "\n",
    "for i in range(a.size):\n",
    "    \n",
    "    if lenB[i]==0:\n",
    "        interbond_distance[i]='No pair'\n",
    "        \n",
    "    if lenB[i]==1:\n",
    "        interbond_distance[i]='Only One pair'\n",
    "    \n",
    "    for r in range(lenB[i]-1):\n",
    "        split1= re.findall('\\d+',data['Disulfide bond'][i][r])\n",
    "        split2= re.findall('\\d+',data['Disulfide bond'][i][r+1])\n",
    "        interbond_distance[i]= interbond_distance[i]+ str(int(split2[0])-int(split1[1]))+ '|'\n",
    "        \n",
    "data['interbond_distance']=interbond_distance\n",
    "\n",
    "#Intrabond distance formation\n",
    "intrabond=pd.Series(b.size,dtype=np.str)\n",
    "for i in range(a.size):\n",
    "    intrabond[i]=''\n",
    "j=0;\n",
    "while j<b.size:\n",
    "    for k in range(lenB[j]):\n",
    "        split = re.findall('\\d+',b[j][k]) \n",
    "        firstPair= int(split[0])\n",
    "        secondPair=int(split[1])\n",
    "        intrabond[j]=intrabond[j]+str(secondPair-firstPair)+'|'    \n",
    "    j=j+1\n",
    "data['intrabond']=intrabond\n",
    "\n",
    "\n",
    "#number of pairs of disuphide bonds\n",
    "data['total sulphide bonds']=lenB\n",
    "\n",
    "#number of glcosylation positions\n",
    "data['total glyco positions']=lenA\n",
    "\n",
    "\n",
    "#1st disulphide pair to N-terminus distance\n",
    "first_pos = pd.Series(a.size,dtype=np.int)\n",
    "for x in range(a.size):\n",
    "    if(data['Disulfide bond'][x]!=[]):\n",
    "        split = re.findall('\\d+',data['Disulfide bond'][x][0]) \n",
    "        firstPair= int(split[0])\n",
    "        first_pos[x]= firstPair\n",
    "data['first_position_occurance']=first_pos\n",
    "\n",
    "\n",
    "#last disulphide pair to C-terminus distance\n",
    "last_pos= pd.Series(a.size,dtype=np.int)\n",
    "for x in range(a.size):\n",
    "    if(data['Disulfide bond'][x]!=[]):\n",
    "        split= re.findall('\\d+',data['Disulfide bond'][x][(lenB[x]-1)])\n",
    "        lastPair= int(split[1])\n",
    "        last_pos[x] = lastPair \n",
    "data['last_position_occurance']=last_pos\n",
    "\n",
    "#Calculate average distance of intrabond distance\n",
    "average= data['intrabond'].apply(get_int_value)\n",
    "lenIntra=average.str.len()\n",
    "\n",
    "averageintrabond= np.zeros(a.size)\n",
    "for i in range(a.size):\n",
    "    totalsum=0\n",
    "    for j in range(lenIntra[i]):\n",
    "        totalsum= totalsum+int(average[i][j])\n",
    "    averageintrabond[i]=totalsum/lenIntra[i]\n",
    "data['average_Intrabond']=averageintrabond\n"
   ]
  },
  {
   "cell_type": "code",
   "execution_count": 7,
   "metadata": {},
   "outputs": [],
   "source": [
    "#calculating average distance of those pairs of disulphide bonds that have Glycosylation Inside.\n",
    "temp_length=pd.Series(b.size,dtype=np.str)\n",
    "#for i in range(a.size):\n",
    "#    temp_length[i]=''\n",
    "inside_length = np.zeros(a.size,dtype=np.int)\n",
    "for r in range(a.size):\n",
    "    inside_length[r]=len(re.findall('\\d+',data['In_Gly_Dis_Pair'][r]))/2\n",
    "    temp_length[r]=re.findall('\\d+',data['In_Gly_Dis_Pair'][r])\n",
    "    if inside_length[r]!=0:\n",
    "        InsidePairsLength[r]=InsidePairsLength[r]/inside_length[r]\n",
    "data['avg_Inside_Pairs_Length']=InsidePairsLength"
   ]
  },
  {
   "cell_type": "code",
   "execution_count": 8,
   "metadata": {},
   "outputs": [],
   "source": [
    "#If the glyco is inside then putting the sulphide position 'nil' at that point.\n",
    "i=0\n",
    "while i<b.size:\n",
    "    for j in range(lenA[i]):\n",
    "        Position=int(a[i][j])\n",
    "        for k in range(lenB[i]):\n",
    "            if bond[i][k]!='nil':\n",
    "                split = re.findall('\\d+',b[i][k]) \n",
    "                firstPair= int(split[0])\n",
    "                secondPair=int(split[1])\n",
    "                if Position>= firstPair and Position<=secondPair:\n",
    "                    bond[i][k]='nil'\n",
    "    i=i+1"
   ]
  },
  {
   "cell_type": "code",
   "execution_count": 9,
   "metadata": {},
   "outputs": [],
   "source": [
    "#Calculating length between sulfide bonds.\n",
    "temp=pd.Series(b.size,dtype=np.str)\n",
    "for i in range(a.size):\n",
    "    temp[i]=''\n",
    "\n",
    "for i in range(len(bond)):\n",
    "    for j in range(lenB[i]):\n",
    "        if bond[i][j]!='nil':\n",
    "            split= re.findall('\\d+',bond[i][j])\n",
    "            temp[i]=str(temp[i] + str(int(split[1])-int(split[0]))+'|')\n",
    "data['glyco_outside_bond']=bond"
   ]
  },
  {
   "cell_type": "code",
   "execution_count": 10,
   "metadata": {},
   "outputs": [],
   "source": [
    "#get the integer values.\n",
    "intrabond_outside= temp.apply(get_int_value)\n",
    "data['intrabond_glyco_outside_bond']=intrabond_outside"
   ]
  },
  {
   "cell_type": "code",
   "execution_count": 11,
   "metadata": {},
   "outputs": [],
   "source": [
    "#calculating avegrage lenth of sulphide bonds which do not have glyco inside.\n",
    "\n",
    "new =pd.Series(intrabond_outside)\n",
    "newlen=new.str.len()\n",
    "average= np.zeros(a.size)\n",
    "for i in range(a.size):\n",
    "    totalsum=0\n",
    "    for j in range(newlen[i]):\n",
    "        totalsum= totalsum+int(intrabond_outside[i][j])\n",
    "    if newlen[i]!=0:\n",
    "        average[i]=totalsum/newlen[i]\n",
    "data['average_Intrabond_outside_glyco_bond']=average"
   ]
  },
  {
   "cell_type": "code",
   "execution_count": null,
   "metadata": {},
   "outputs": [],
   "source": []
  },
  {
   "cell_type": "code",
   "execution_count": 13,
   "metadata": {},
   "outputs": [],
   "source": [
    "data.to_excel('output.xlsx')"
   ]
  },
  {
   "cell_type": "code",
   "execution_count": 14,
   "metadata": {},
   "outputs": [
    {
     "ename": "AttributeError",
     "evalue": "'DataFrame' object has no attribute 'to_txt'",
     "output_type": "error",
     "traceback": [
      "\u001b[1;31m---------------------------------------------------------------------------\u001b[0m",
      "\u001b[1;31mAttributeError\u001b[0m                            Traceback (most recent call last)",
      "\u001b[1;32m<ipython-input-14-c0bfa8827099>\u001b[0m in \u001b[0;36m<module>\u001b[1;34m\u001b[0m\n\u001b[1;32m----> 1\u001b[1;33m \u001b[0mdata\u001b[0m\u001b[1;33m.\u001b[0m\u001b[0mto_txt\u001b[0m\u001b[1;33m(\u001b[0m\u001b[1;34m'Bigoutput.txt'\u001b[0m\u001b[1;33m)\u001b[0m\u001b[1;33m\u001b[0m\u001b[1;33m\u001b[0m\u001b[0m\n\u001b[0m",
      "\u001b[1;32m~\\Anaconda3\\lib\\site-packages\\pandas\\core\\generic.py\u001b[0m in \u001b[0;36m__getattr__\u001b[1;34m(self, name)\u001b[0m\n\u001b[0;32m   5177\u001b[0m             \u001b[1;32mif\u001b[0m \u001b[0mself\u001b[0m\u001b[1;33m.\u001b[0m\u001b[0m_info_axis\u001b[0m\u001b[1;33m.\u001b[0m\u001b[0m_can_hold_identifiers_and_holds_name\u001b[0m\u001b[1;33m(\u001b[0m\u001b[0mname\u001b[0m\u001b[1;33m)\u001b[0m\u001b[1;33m:\u001b[0m\u001b[1;33m\u001b[0m\u001b[1;33m\u001b[0m\u001b[0m\n\u001b[0;32m   5178\u001b[0m                 \u001b[1;32mreturn\u001b[0m \u001b[0mself\u001b[0m\u001b[1;33m[\u001b[0m\u001b[0mname\u001b[0m\u001b[1;33m]\u001b[0m\u001b[1;33m\u001b[0m\u001b[1;33m\u001b[0m\u001b[0m\n\u001b[1;32m-> 5179\u001b[1;33m             \u001b[1;32mreturn\u001b[0m \u001b[0mobject\u001b[0m\u001b[1;33m.\u001b[0m\u001b[0m__getattribute__\u001b[0m\u001b[1;33m(\u001b[0m\u001b[0mself\u001b[0m\u001b[1;33m,\u001b[0m \u001b[0mname\u001b[0m\u001b[1;33m)\u001b[0m\u001b[1;33m\u001b[0m\u001b[1;33m\u001b[0m\u001b[0m\n\u001b[0m\u001b[0;32m   5180\u001b[0m \u001b[1;33m\u001b[0m\u001b[0m\n\u001b[0;32m   5181\u001b[0m     \u001b[1;32mdef\u001b[0m \u001b[0m__setattr__\u001b[0m\u001b[1;33m(\u001b[0m\u001b[0mself\u001b[0m\u001b[1;33m,\u001b[0m \u001b[0mname\u001b[0m\u001b[1;33m,\u001b[0m \u001b[0mvalue\u001b[0m\u001b[1;33m)\u001b[0m\u001b[1;33m:\u001b[0m\u001b[1;33m\u001b[0m\u001b[1;33m\u001b[0m\u001b[0m\n",
      "\u001b[1;31mAttributeError\u001b[0m: 'DataFrame' object has no attribute 'to_txt'"
     ]
    }
   ],
   "source": [
    "data.to_csv('Bigoutput.txt')"
   ]
  },
  {
   "cell_type": "code",
   "execution_count": null,
   "metadata": {},
   "outputs": [],
   "source": []
  },
  {
   "cell_type": "code",
   "execution_count": null,
   "metadata": {},
   "outputs": [],
   "source": []
  },
  {
   "cell_type": "code",
   "execution_count": null,
   "metadata": {},
   "outputs": [],
   "source": []
  },
  {
   "cell_type": "code",
   "execution_count": null,
   "metadata": {},
   "outputs": [],
   "source": []
  },
  {
   "cell_type": "code",
   "execution_count": null,
   "metadata": {},
   "outputs": [],
   "source": []
  },
  {
   "cell_type": "code",
   "execution_count": null,
   "metadata": {},
   "outputs": [],
   "source": []
  },
  {
   "cell_type": "code",
   "execution_count": null,
   "metadata": {},
   "outputs": [],
   "source": []
  },
  {
   "cell_type": "code",
   "execution_count": null,
   "metadata": {},
   "outputs": [],
   "source": []
  },
  {
   "cell_type": "code",
   "execution_count": null,
   "metadata": {},
   "outputs": [],
   "source": []
  },
  {
   "cell_type": "code",
   "execution_count": null,
   "metadata": {},
   "outputs": [],
   "source": []
  },
  {
   "cell_type": "code",
   "execution_count": null,
   "metadata": {},
   "outputs": [],
   "source": []
  },
  {
   "cell_type": "code",
   "execution_count": null,
   "metadata": {},
   "outputs": [],
   "source": []
  }
 ],
 "metadata": {
  "kernelspec": {
   "display_name": "Python 3",
   "language": "python",
   "name": "python3"
  },
  "language_info": {
   "codemirror_mode": {
    "name": "ipython",
    "version": 3
   },
   "file_extension": ".py",
   "mimetype": "text/x-python",
   "name": "python",
   "nbconvert_exporter": "python",
   "pygments_lexer": "ipython3",
   "version": "3.7.4"
  }
 },
 "nbformat": 4,
 "nbformat_minor": 2
}
