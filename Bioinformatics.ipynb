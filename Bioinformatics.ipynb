{
 "cells": [
  {
   "cell_type": "code",
   "execution_count": 1,
   "metadata": {},
   "outputs": [],
   "source": [
    "import numpy as np\n",
    "import pandas as pd\n",
    "import re \n",
    "import matplotlib.pyplot as plt \n",
    "import sys"
   ]
  },
  {
   "cell_type": "code",
   "execution_count": 2,
   "metadata": {},
   "outputs": [],
   "source": [
    "#Input file must be given to run the code.\n",
    "#For Example Run(in terminal) 'python3 Bioinformatics input.xlsx'\n",
    "\n",
    "#Filename =sys.argv[1] # Read input file \n",
    "\n",
    "df = pd.read_excel('input.xlsx')# Read EXCEL Files and storing in database 'df'\n",
    "data= pd.DataFrame()# Creating New Data Frame "
   ]
  },
  {
   "cell_type": "code",
   "execution_count": 3,
   "metadata": {},
   "outputs": [],
   "source": [
    "# Storing Usefull information From the database 'df' \n",
    "data['Entry']=df['Entry'] #Storing Entry\n",
    "data['Entry name']=df['Entry name']  #Storing Entry Name\n",
    "data['Protein names']=df['Protein names']  #Storing Protein Names\n",
    "data['Gene names']=df['Gene names'] # Storing Gene Names\n",
    "data['Length']=df['Length'] # Storing Length"
   ]
  },
  {
   "cell_type": "code",
   "execution_count": 4,
   "metadata": {},
   "outputs": [],
   "source": [
    "data['Organism']=df['Organism'] # Storing Type of Organism\n",
    "data['Mass']=df['Mass'] #Storing Mass\n",
    " "
   ]
  },
  {
   "cell_type": "code",
   "execution_count": 5,
   "metadata": {},
   "outputs": [],
   "source": [
    "#Now removing the extra data we dont need and containg only organism 'Human'\n",
    "columns=data[data['Organism'].str.contains(\"Human\")] #Selecting only organism which contains HUMANS\n",
    "data= columns"
   ]
  },
  {
   "cell_type": "code",
   "execution_count": 6,
   "metadata": {},
   "outputs": [],
   "source": [
    "data['Disulfide bond']=df['Disulfide bond'] # Storing Disulfide bond \n",
    "data['Glycosylation']= df['Glycosylation']# Storing Glycosylation Position"
   ]
  },
  {
   "cell_type": "code",
   "execution_count": 7,
   "metadata": {},
   "outputs": [],
   "source": [
    "data=data.dropna().reset_index(drop=True) # Drop all rows which contains Not a number and reset the index "
   ]
  },
  {
   "cell_type": "code",
   "execution_count": 8,
   "metadata": {},
   "outputs": [],
   "source": [
    "# Working on getting the relative positions of the Disulfide bond\n",
    "disulfide_column= data['Disulfide bond'] # Storing data temporary as 'disulfide_column'\n",
    "def getdata(newdata):\n",
    "    return re.findall('\\d+ \\d+',newdata)\n",
    "\n",
    "data['Disulfide bond']= disulfide_column.apply(getdata) # Function call which gives all the positons "
   ]
  },
  {
   "cell_type": "code",
   "execution_count": 9,
   "metadata": {},
   "outputs": [],
   "source": [
    "#Working on getting the positions of N-linked Glycosylation\n",
    "Glyco_data= data['Glycosylation'] # Storing data temporary as 'Glyco_data'\n",
    "\n",
    "def getGlycoNLinked(data):   #Making a Function to get the positions\n",
    "    return re.findall('\\d+\\s* N-linked',data) # The return data will contain 'position and N-linked pattern'\n",
    "data['Glycosylation']= Glyco_data.apply(getGlycoNLinked) # the return data will be like '49 N-linked'"
   ]
  },
  {
   "cell_type": "code",
   "execution_count": 10,
   "metadata": {},
   "outputs": [],
   "source": [
    "#Now Removing the extra word 'N-linked' and getting all positions \n",
    "temp_data= data['Glycosylation'].astype(str)\n",
    "def getValue(data):\n",
    "    return re.findall('\\d+',data) # return all positions\n",
    "data['Glycosylation']= temp_data.apply(getValue) "
   ]
  },
  {
   "cell_type": "code",
   "execution_count": null,
   "metadata": {},
   "outputs": [],
   "source": []
  },
  {
   "cell_type": "code",
   "execution_count": 11,
   "metadata": {},
   "outputs": [],
   "source": [
    "a= pd.DataFrame()\n",
    "b= pd.DataFrame()\n",
    "\n",
    "a =pd.Series(data['Glycosylation'])\n",
    "b =pd.Series(data['Disulfide bond'])\n",
    "\n",
    "lenB=b.str.len()\n",
    "lenA=a.str.len()\n",
    "rel_pos = pd.Series(a.size,dtype=np.str)\n",
    "\n",
    "for i in range(a.size):\n",
    "    rel_pos[i]=''\n",
    "    intrabond[i]=''"
   ]
  },
  {
   "cell_type": "code",
   "execution_count": null,
   "metadata": {},
   "outputs": [],
   "source": []
  },
  {
   "cell_type": "code",
   "execution_count": 12,
   "metadata": {},
   "outputs": [],
   "source": [
    "i=0;\n",
    "while i<b.size:\n",
    "    for j in range(lenA[i]):\n",
    "        Position=int(a[i][j])\n",
    "        rel_pos[i]=rel_pos[i]+str(a[i][j])+'{|'\n",
    "        for k in range(lenB[i]):\n",
    "            split = re.findall('\\d+',b[i][k]) \n",
    "            firstPair= int(split[0])\n",
    "            secondPair=int(split[1])\n",
    "            if Position< firstPair:\n",
    "                rel_pos[i] = rel_pos[i]+'o'+str(Position-firstPair)\n",
    "                rel_pos[i] = rel_pos[i]+'o'+str(Position-secondPair)\n",
    "            elif Position>= firstPair and Position<=secondPair:\n",
    "                rel_pos[i]=  rel_pos[i]+'i' + str(Position-firstPair)\n",
    "                rel_pos[i] = rel_pos[i]+'i'+ str(Position-secondPair)\n",
    "            else:\n",
    "                rel_pos[i] = rel_pos[i]+'o'+str(Position-firstPair)\n",
    "                rel_pos[i] = rel_pos[i]+'o'+str(Position-secondPair)\n",
    "            rel_pos[i]=rel_pos[i]+'|'    \n",
    "        rel_pos[i]=rel_pos[i]+'}'\n",
    "    i=i+1"
   ]
  },
  {
   "cell_type": "code",
   "execution_count": 13,
   "metadata": {},
   "outputs": [],
   "source": [
    "data['rel_pos']= rel_pos"
   ]
  },
  {
   "cell_type": "code",
   "execution_count": 30,
   "metadata": {},
   "outputs": [],
   "source": [
    "#Intrabond distance formation\n",
    "intrabond=pd.Series(b.size,dtype=np.str)\n",
    "for i in range(a.size):\n",
    "    intrabond[i]=''\n",
    "j=0;\n",
    "while j<b.size:\n",
    "    for k in range(lenB[j]):\n",
    "        split = re.findall('\\d+',b[j][k]) \n",
    "        firstPair= int(split[0])\n",
    "        secondPair=int(split[1])\n",
    "        intrabond[j]=intrabond[j]+str(secondPair-firstPair)+'|'    \n",
    "    j=j+1\n",
    "data['intrabond']=intrabond"
   ]
  },
  {
   "cell_type": "code",
   "execution_count": 33,
   "metadata": {},
   "outputs": [
    {
     "data": {
      "text/plain": [
       "0                                        [35 142, 48 114]\n",
       "1       [39 122, 63 63, 80 171, 134 178, 189 189, 191 ...\n",
       "2       [1232 1243, 1237 1274, 1276 1285, 1292 1303, 1...\n",
       "3       [65 114, 158 211, 263 310, 352 391, 436 484, 5...\n",
       "4                                      [328 407, 369 374]\n",
       "5                               [51 67, 144 209, 175 188]\n",
       "6       [48 86, 251 299, 269 287, 278 278, 431 431, 47...\n",
       "7                             [135 178, 169 211, 269 322]\n",
       "8       [76 141, 89 151, 120 130, 184 248, 197 258, 22...\n",
       "9       [123 173, 217 269, 322 369, 411 458, 503 551, ...\n",
       "10                                      [61 178, 144 170]\n",
       "11                              [28 134, 61 185, 136 136]\n",
       "12                                  [53 53, 63 63, 91 91]\n",
       "13                             [94 112, 402 421, 432 462]\n",
       "14                   [323 389, 352 421, 356 423, 388 388]\n",
       "15      [40 78, 241 291, 259 279, 464 557, 589 769, 81...\n",
       "16                                               [78 171]\n",
       "17      [31 177, 332 364, 513 545, 551 562, 556 571, 5...\n",
       "18      [31 177, 332 364, 515 547, 553 564, 558 573, 5...\n",
       "19      [30 55, 303 336, 307 342, 318 326, 357 392, 36...\n",
       "20              [52 94, 56 63, 142 172, 202 223, 378 382]\n",
       "21                                     [195 230, 626 634]\n",
       "22                                     [125 188, 227 283]\n",
       "23                                     [125 188, 227 283]\n",
       "24                                         [30 58, 31 73]\n",
       "25                                              [166 206]\n",
       "26                            [120 131, 148 241, 220 233]\n",
       "27      [31 34, 140 154, 148 166, 168 177, 263 266, 29...\n",
       "28                                               [36 104]\n",
       "29                     [75 91, 175 248, 208 227, 238 266]\n",
       "                              ...                        \n",
       "3006            [45 106, 53 99, 90 128, 117 158, 121 145]\n",
       "3007    [67 109, 249 538, 372 388, 428 435, 520 539, 5...\n",
       "3008                                          [2151 2165]\n",
       "3009                           [19 159, 267 347, 308 327]\n",
       "3010                                            [101 179]\n",
       "3011                   [54 70, 148 218, 179 197, 208 234]\n",
       "3012    [45 65, 110 198, 117 189, 122 150, 211 240, 22...\n",
       "3013                                            [115 274]\n",
       "3014    [35 78, 65 91, 96 137, 123 153, 158 207, 187 2...\n",
       "3015                              [75 81, 79 88, 333 366]\n",
       "3016                                            [154 196]\n",
       "3017                      [45 69, 59 82, 90 116, 104 131]\n",
       "3018         [32 43, 44 57, 47 65, 68 83, 86 100, 90 108]\n",
       "3019                                   [161 248, 227 240]\n",
       "3020    [77 86, 99 114, 113 124, 148 193, 192 201, 224...\n",
       "3021                                           [404 1059]\n",
       "3022                                            [146 201]\n",
       "3023                                   [103 145, 351 382]\n",
       "3024                                   [125 188, 227 283]\n",
       "3025                                   [125 188, 227 283]\n",
       "3026          [43 101, 85 130, 156 175, 393 399, 465 477]\n",
       "3027    [63 79, 81 90, 93 119, 211 221, 215 233, 235 2...\n",
       "3028                                             [99 176]\n",
       "3029                                   [125 188, 227 283]\n",
       "3030                                            [112 128]\n",
       "3031    [702 728, 703 735, 716 736, 1595 1673, 1618 1742]\n",
       "3032    [567 810, 634 669, 698 724, 699 731, 711 732, ...\n",
       "3033                          [128 144, 154 170, 191 250]\n",
       "3034                                   [125 188, 227 283]\n",
       "3035                                   [125 188, 227 283]\n",
       "Name: Disulfide bond, Length: 3036, dtype: object"
      ]
     },
     "execution_count": 33,
     "metadata": {},
     "output_type": "execute_result"
    }
   ],
   "source": [
    "j=0;\n",
    "while j<b.size:\n",
    "    for k in range(lenB[j]):\n",
    "        split = re.findall('\\d+',b[j][k])\n",
    "        \n",
    "        firstPair= int(split[0])\n",
    "        secondPair=int(split[1])\n",
    "        intrabond[j]=intrabond[j]+str(secondPair-firstPair)+'|'    \n",
    "    j=j+1\n",
    "data['intrabond']=intrabond"
   ]
  },
  {
   "cell_type": "code",
   "execution_count": null,
   "metadata": {},
   "outputs": [],
   "source": []
  },
  {
   "cell_type": "code",
   "execution_count": 32,
   "metadata": {},
   "outputs": [],
   "source": []
  },
  {
   "cell_type": "code",
   "execution_count": null,
   "metadata": {},
   "outputs": [],
   "source": [
    "data.to_excel('output.xlsx') # Output an Excel File with refined data."
   ]
  }
 ],
 "metadata": {
  "kernelspec": {
   "display_name": "Python 3",
   "language": "python",
   "name": "python3"
  },
  "language_info": {
   "codemirror_mode": {
    "name": "ipython",
    "version": 3
   },
   "file_extension": ".py",
   "mimetype": "text/x-python",
   "name": "python",
   "nbconvert_exporter": "python",
   "pygments_lexer": "ipython3",
   "version": "3.7.4"
  }
 },
 "nbformat": 4,
 "nbformat_minor": 2
}
