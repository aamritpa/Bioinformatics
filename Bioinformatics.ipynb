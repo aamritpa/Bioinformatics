{
 "cells": [
  {
   "cell_type": "code",
   "execution_count": 34,
   "metadata": {},
   "outputs": [],
   "source": [
    "import numpy as np\n",
    "import pandas as pd\n",
    "import re \n",
    "import matplotlib.pyplot as plt \n",
    "import sys"
   ]
  },
  {
   "cell_type": "code",
   "execution_count": 35,
   "metadata": {},
   "outputs": [],
   "source": [
    "#Input file must be given to run the code.\n",
    "#For Example Run(in terminal) 'python3 Bioinformatics input.xlsx'\n",
    "\n",
    "#Filename =sys.argv[1] # Read input file \n",
    "\n",
    "df = pd.read_excel('input.xlsx')# Read EXCEL Files and storing in database 'df'\n",
    "data= pd.DataFrame()# Creating New Data Frame "
   ]
  },
  {
   "cell_type": "code",
   "execution_count": 36,
   "metadata": {},
   "outputs": [],
   "source": [
    "# Storing Usefull information From the database 'df' \n",
    "data['Entry']=df['Entry'] #Storing Entry\n",
    "data['Entry name']=df['Entry name']  #Storing Entry Name\n",
    "data['Protein names']=df['Protein names']  #Storing Protein Names\n",
    "data['Gene names']=df['Gene names'] # Storing Gene Names\n",
    "data['Length']=df['Length'] # Storing Length"
   ]
  },
  {
   "cell_type": "code",
   "execution_count": 37,
   "metadata": {},
   "outputs": [],
   "source": [
    "data['Organism']=df['Organism'] # Storing Type of Organism\n",
    "data['Mass']=df['Mass'] #Storing Mass\n",
    " "
   ]
  },
  {
   "cell_type": "code",
   "execution_count": 38,
   "metadata": {},
   "outputs": [],
   "source": [
    "#Now removing the extra data we dont need and containg only organism 'Human'\n",
    "columns=data[data['Organism'].str.contains(\"Human\")] #Selecting only organism which contains HUMANS\n",
    "data= columns"
   ]
  },
  {
   "cell_type": "code",
   "execution_count": 39,
   "metadata": {},
   "outputs": [],
   "source": [
    "data['Disulfide bond']=df['Disulfide bond'] # Storing Disulfide bond \n",
    "data['Glycosylation']= df['Glycosylation']# Storing Glycosylation Position"
   ]
  },
  {
   "cell_type": "code",
   "execution_count": 40,
   "metadata": {},
   "outputs": [],
   "source": [
    "data=data.dropna().reset_index(drop=True) # Drop all rows which contains Not a number and reset the index "
   ]
  },
  {
   "cell_type": "code",
   "execution_count": 41,
   "metadata": {},
   "outputs": [],
   "source": [
    "# Working on getting the relative positions of the Disulfide bond\n",
    "disulfide_column= data['Disulfide bond'] # Storing data temporary as 'disulfide_column'\n",
    "def getdata(newdata):\n",
    "    return re.findall('\\d+ \\d+',newdata)\n",
    "\n",
    "data['Disulfide bond']= disulfide_column.apply(getdata) # Function call which gives all the positons "
   ]
  },
  {
   "cell_type": "code",
   "execution_count": 42,
   "metadata": {},
   "outputs": [],
   "source": [
    "#Working on getting the positions of N-linked Glycosylation\n",
    "Glyco_data= data['Glycosylation'] # Storing data temporary as 'Glyco_data'\n",
    "\n",
    "def getGlycoNLinked(data):   #Making a Function to get the positions\n",
    "    return re.findall('\\d+\\s* N-linked',data) # The return data will contain 'position and N-linked pattern'\n",
    "data['Glycosylation']= Glyco_data.apply(getGlycoNLinked) # the return data will be like '49 N-linked'"
   ]
  },
  {
   "cell_type": "code",
   "execution_count": 43,
   "metadata": {},
   "outputs": [],
   "source": [
    "#Now Removing the extra word 'N-linked' and getting all positions \n",
    "temp_data= data['Glycosylation'].astype(str)\n",
    "def getValue(data):\n",
    "    return re.findall('\\d+',data) # return all positions\n",
    "data['Glycosylation']= temp_data.apply(getValue) "
   ]
  },
  {
   "cell_type": "code",
   "execution_count": 44,
   "metadata": {},
   "outputs": [],
   "source": [
    "a= pd.DataFrame()\n",
    "b= pd.DataFrame()\n",
    "\n",
    "a =pd.Series(data['Glycosylation'])\n",
    "b =pd.Series(data['Disulfide bond'])\n",
    "\n",
    "lenB=b.str.len()\n",
    "lenA=a.str.len()\n",
    "rel_pos = pd.Series(a.size,dtype=np.str)\n",
    "\n",
    "for i in range(a.size):\n",
    "    rel_pos[i]=''"
   ]
  },
  {
   "cell_type": "code",
   "execution_count": 45,
   "metadata": {},
   "outputs": [],
   "source": [
    "i=0;\n",
    "while i<b.size:\n",
    "    for j in range(lenA[i]):\n",
    "        Position=int(a[i][j])\n",
    "        rel_pos[i]=rel_pos[i]+str(a[i][j])+'{|'\n",
    "        for k in range(lenB[i]):\n",
    "            split = re.findall('\\d+',b[i][k]) \n",
    "            firstPair= int(split[0])\n",
    "            secondPair=int(split[1])\n",
    "            if Position< firstPair:\n",
    "                rel_pos[i] = rel_pos[i]+'o'+str(Position-firstPair)\n",
    "                rel_pos[i] = rel_pos[i]+'o'+str(Position-secondPair)\n",
    "            elif Position>= firstPair and Position<=secondPair:\n",
    "                rel_pos[i]=  rel_pos[i]+'i' + str(Position-firstPair)\n",
    "                rel_pos[i] = rel_pos[i]+'i'+ str(Position-secondPair)\n",
    "            else:\n",
    "                rel_pos[i] = rel_pos[i]+'o'+str(Position-firstPair)\n",
    "                rel_pos[i] = rel_pos[i]+'o'+str(Position-secondPair)\n",
    "            rel_pos[i]=rel_pos[i]+'|'    \n",
    "        rel_pos[i]=rel_pos[i]+'}'\n",
    "    i=i+1\n",
    "data['rel_pos']= rel_pos"
   ]
  },
  {
   "cell_type": "code",
   "execution_count": 46,
   "metadata": {},
   "outputs": [],
   "source": []
  },
  {
   "cell_type": "code",
   "execution_count": 47,
   "metadata": {},
   "outputs": [],
   "source": [
    "#Intrabond distance formation\n",
    "intrabond=pd.Series(b.size,dtype=np.str)\n",
    "for i in range(a.size):\n",
    "    intrabond[i]=''\n",
    "j=0;\n",
    "while j<b.size:\n",
    "    for k in range(lenB[j]):\n",
    "        split = re.findall('\\d+',b[j][k]) \n",
    "        firstPair= int(split[0])\n",
    "        secondPair=int(split[1])\n",
    "        intrabond[j]=intrabond[j]+str(secondPair-firstPair)+'|'    \n",
    "    j=j+1\n",
    "data['intrabond']=intrabond"
   ]
  },
  {
   "cell_type": "code",
   "execution_count": null,
   "metadata": {},
   "outputs": [],
   "source": [
    "data.to_excel('output.xlsx') # Output an Excel File with refined data."
   ]
  },
  {
   "cell_type": "code",
   "execution_count": 48,
   "metadata": {},
   "outputs": [],
   "source": []
  },
  {
   "cell_type": "code",
   "execution_count": 32,
   "metadata": {},
   "outputs": [],
   "source": []
  },
  {
   "cell_type": "code",
   "execution_count": null,
   "metadata": {},
   "outputs": [],
   "source": []
  }
 ],
 "metadata": {
  "kernelspec": {
   "display_name": "Python 3",
   "language": "python",
   "name": "python3"
  },
  "language_info": {
   "codemirror_mode": {
    "name": "ipython",
    "version": 3
   },
   "file_extension": ".py",
   "mimetype": "text/x-python",
   "name": "python",
   "nbconvert_exporter": "python",
   "pygments_lexer": "ipython3",
   "version": "3.7.4"
  }
 },
 "nbformat": 4,
 "nbformat_minor": 2
}
