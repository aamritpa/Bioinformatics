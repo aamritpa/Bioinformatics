{
 "cells": [
  {
   "cell_type": "code",
   "execution_count": 1,
   "metadata": {},
   "outputs": [],
   "source": [
    "import numpy as np\n",
    "import pandas as pd\n",
    "import re \n",
    "import matplotlib.pyplot as plt \n",
    "import sys\n",
    "import time"
   ]
  },
  {
   "cell_type": "code",
   "execution_count": 2,
   "metadata": {},
   "outputs": [],
   "source": [
    "#Filename =sys.argv[1] # Read input file \n",
    "df = pd.read_excel('sequenceInput.xlsx')"
   ]
  },
  {
   "cell_type": "code",
   "execution_count": 3,
   "metadata": {},
   "outputs": [],
   "source": [
    "df=df.dropna().reset_index(drop=True)\n",
    "data= pd.DataFrame()\n",
    "data=df"
   ]
  },
  {
   "cell_type": "code",
   "execution_count": null,
   "metadata": {},
   "outputs": [],
   "source": []
  },
  {
   "cell_type": "code",
   "execution_count": 4,
   "metadata": {},
   "outputs": [],
   "source": [
    "sulfide=df['Disulfide bond']\n",
    "def get_sulfide_value(newdata):\n",
    "    return re.findall('\\d+\\..\\d+',newdata)\n",
    "\n",
    "values= sulfide.apply(get_sulfide_value)\n",
    "data['Disulfide bond']=values"
   ]
  },
  {
   "cell_type": "code",
   "execution_count": 5,
   "metadata": {},
   "outputs": [],
   "source": [
    "#Calculating length of sequences\n",
    "length =pd.Series(data['Sequence'])\n",
    "Sequence_Length=length.str.len()\n",
    "position = pd.Series(len(data),dtype=np.str)\n",
    "for i in range(len(data)):\n",
    "    position[i]=''"
   ]
  },
  {
   "cell_type": "code",
   "execution_count": 6,
   "metadata": {},
   "outputs": [],
   "source": [
    "for i in range(len(data)):\n",
    "    for j in range((Sequence_Length[i])):\n",
    "        if (data['Sequence'][i][j])=='C':\n",
    "            position[i]=position[i]+','+str(j)"
   ]
  },
  {
   "cell_type": "code",
   "execution_count": 7,
   "metadata": {},
   "outputs": [],
   "source": [
    "def get_integer_value(newdata):\n",
    "    return re.findall('\\d+',newdata)\n",
    "\n",
    "data['Sequence C position']= position.apply(get_integer_value)\n",
    "count =pd.Series(data['Sequence C position'])\n",
    "length=count.str.len()\n",
    "data['Sequence C count']=length"
   ]
  },
  {
   "cell_type": "code",
   "execution_count": null,
   "metadata": {},
   "outputs": [],
   "source": []
  },
  {
   "cell_type": "code",
   "execution_count": null,
   "metadata": {},
   "outputs": [],
   "source": []
  },
  {
   "cell_type": "code",
   "execution_count": null,
   "metadata": {},
   "outputs": [],
   "source": []
  },
  {
   "cell_type": "code",
   "execution_count": 8,
   "metadata": {},
   "outputs": [],
   "source": [
    "n_found=0\n",
    "n_position=0\n",
    "count_pattern=np.zeros(len(data))"
   ]
  },
  {
   "cell_type": "code",
   "execution_count": 9,
   "metadata": {},
   "outputs": [],
   "source": [
    "pos = pd.Series(len(data),dtype=np.str)\n",
    "for i in range(len(data)):\n",
    "    pos[i]=''"
   ]
  },
  {
   "cell_type": "code",
   "execution_count": 10,
   "metadata": {},
   "outputs": [],
   "source": [
    "for i in range(len(data)):\n",
    "    for j in range(len(data['Sequence'][i])):\n",
    "        if(data['Sequence'][i][j]=='N' and n_found==0):\n",
    "            n_found=1\n",
    "            n_position=j\n",
    "        elif(data['Sequence'][i][j]=='N' and n_found==1):\n",
    "            n_position=j\n",
    "        elif(data['Sequence'][i][j]=='P' and n_found==1):\n",
    "            n_found=0\n",
    "            n_position=0\n",
    "        elif(data['Sequence'][i][j]=='T' and n_found==1):\n",
    "            pos[i]=pos[i]+'['+str(n_position)+','+str(j)+']'\n",
    "            count_pattern[i]=count_pattern[i]+1.0\n",
    "            n_found=0\n",
    "            n_position=0\n",
    "        elif (data['Sequence'][i][j]=='S' and n_found==1):\n",
    "            pos[i]=pos[i]+'['+str(n_position)+','+str(j)+']'\n",
    "            count_pattern[i]=count_pattern[i]+1.0\n",
    "            n_found=0\n",
    "            n_position=0\n",
    "            count_pattern[i]=count_pattern[i]+1.0"
   ]
  },
  {
   "cell_type": "code",
   "execution_count": 11,
   "metadata": {
    "scrolled": true
   },
   "outputs": [],
   "source": [
    "data['N_X_S/T']=pos"
   ]
  },
  {
   "cell_type": "code",
   "execution_count": 12,
   "metadata": {},
   "outputs": [],
   "source": [
    "data.to_excel('sequenceOutput.xlsx')"
   ]
  },
  {
   "cell_type": "code",
   "execution_count": 16,
   "metadata": {},
   "outputs": [
    {
     "data": {
      "text/plain": [
       "'!!! TO LONG IT DOES NOT FIT IN EXCELL, NOT REPRESENTABLE IN EXCELL !!!'"
      ]
     },
     "execution_count": 16,
     "metadata": {},
     "output_type": "execute_result"
    }
   ],
   "source": [
    "min((df['Sequence']))"
   ]
  },
  {
   "cell_type": "code",
   "execution_count": 20,
   "metadata": {},
   "outputs": [
    {
     "data": {
      "text/plain": [
       "35213"
      ]
     },
     "execution_count": 20,
     "metadata": {},
     "output_type": "execute_result"
    }
   ],
   "source": [
    "max(df['Length'])"
   ]
  },
  {
   "cell_type": "code",
   "execution_count": 21,
   "metadata": {},
   "outputs": [
    {
     "data": {
      "text/plain": [
       "27"
      ]
     },
     "execution_count": 21,
     "metadata": {},
     "output_type": "execute_result"
    }
   ],
   "source": [
    "min(df['Length'])"
   ]
  },
  {
   "cell_type": "code",
   "execution_count": null,
   "metadata": {},
   "outputs": [],
   "source": []
  }
 ],
 "metadata": {
  "kernelspec": {
   "display_name": "Python 3",
   "language": "python",
   "name": "python3"
  },
  "language_info": {
   "codemirror_mode": {
    "name": "ipython",
    "version": 3
   },
   "file_extension": ".py",
   "mimetype": "text/x-python",
   "name": "python",
   "nbconvert_exporter": "python",
   "pygments_lexer": "ipython3",
   "version": "3.7.4"
  }
 },
 "nbformat": 4,
 "nbformat_minor": 2
}
