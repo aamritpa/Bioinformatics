{
 "cells": [
  {
   "cell_type": "code",
   "execution_count": 23,
   "metadata": {},
   "outputs": [],
   "source": [
    "import pandas as pd\n",
    "import numpy as np\n",
    "import sys"
   ]
  },
  {
   "cell_type": "code",
   "execution_count": 24,
   "metadata": {},
   "outputs": [],
   "source": [
    "#Read input file\n",
    "data =pd.read_excel(\"Input.xlsx\")\n",
    "data=data[data['Organism'].str.contains(\"Homo sapiens\")] #Selecting only organism which contains 'Homo sapiens'\n",
    "data=data.dropna().reset_index(drop=True) # Drop all rows which contains Not a number and reset the index "
   ]
  },
  {
   "cell_type": "code",
   "execution_count": null,
   "metadata": {},
   "outputs": [],
   "source": []
  },
  {
   "cell_type": "code",
   "execution_count": 25,
   "metadata": {},
   "outputs": [],
   "source": [
    "#Code to find the pattern \n",
    "pattern_position = pd.Series(len(data),dtype=np.str)\n",
    "for i in range(len(data)):\n",
    "    pattern_position[i]=''\n",
    "    \n",
    "for i in range(len(data['Sequence'])):\n",
    "    for j in range(len(data['Sequence'][i])-3):\n",
    "        if(data['Sequence'][i][j]=='C'):\n",
    "            if(data['Sequence'][i][j+3]=='C'):\n",
    "                pattern_position[i]=pattern_position[i]+str(j)+' , '"
   ]
  },
  {
   "cell_type": "code",
   "execution_count": 26,
   "metadata": {},
   "outputs": [],
   "source": [
    "data['Pattern C-X-X-C']= pattern_position"
   ]
  },
  {
   "cell_type": "code",
   "execution_count": 5,
   "metadata": {},
   "outputs": [],
   "source": [
    "data.to_excel('Pattern C-X-X-C.xlsx')"
   ]
  },
  {
   "cell_type": "code",
   "execution_count": 6,
   "metadata": {},
   "outputs": [],
   "source": [
    "#Other Part Reading another file \n",
    "#Bingyun Uses PDB data to check if there are commons in our data and PDB data."
   ]
  },
  {
   "cell_type": "code",
   "execution_count": 27,
   "metadata": {},
   "outputs": [],
   "source": [
    "#Read input file\n",
    "data1 =pd.read_csv(\"PDB_chains_(SCOP_1.75)_52833.tab\",sep='\\t',names=[\"Entry\",\"Sequence\"])\n",
    "data1=data1.dropna().reset_index(drop=True) # Drop all rows which contains Not a number and reset the index "
   ]
  },
  {
   "cell_type": "code",
   "execution_count": 28,
   "metadata": {},
   "outputs": [],
   "source": [
    "for i in range(len(data1)):\n",
    "    data1['Sequence'][i]=data1['Sequence'][i].upper()"
   ]
  },
  {
   "cell_type": "code",
   "execution_count": null,
   "metadata": {},
   "outputs": [],
   "source": [
    "merge_data= pd.merge(data['Sequence'], data1['Sequence'],how='inner')"
   ]
  },
  {
   "cell_type": "code",
   "execution_count": 32,
   "metadata": {},
   "outputs": [],
   "source": [
    "#Merge_data did not give us a positive response as their are only few comman protiens. "
   ]
  },
  {
   "cell_type": "code",
   "execution_count": 35,
   "metadata": {},
   "outputs": [],
   "source": [
    "data1.to_excel('PDB_chains.xlsx')"
   ]
  },
  {
   "cell_type": "code",
   "execution_count": null,
   "metadata": {},
   "outputs": [],
   "source": []
  },
  {
   "cell_type": "code",
   "execution_count": null,
   "metadata": {},
   "outputs": [],
   "source": []
  }
 ],
 "metadata": {
  "kernelspec": {
   "display_name": "Python 3",
   "language": "python",
   "name": "python3"
  },
  "language_info": {
   "codemirror_mode": {
    "name": "ipython",
    "version": 3
   },
   "file_extension": ".py",
   "mimetype": "text/x-python",
   "name": "python",
   "nbconvert_exporter": "python",
   "pygments_lexer": "ipython3",
   "version": "3.7.4"
  }
 },
 "nbformat": 4,
 "nbformat_minor": 2
}
