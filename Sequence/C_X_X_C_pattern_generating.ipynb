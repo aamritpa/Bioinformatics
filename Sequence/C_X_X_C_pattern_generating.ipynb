{
 "cells": [
  {
   "cell_type": "code",
   "execution_count": 2,
   "metadata": {},
   "outputs": [],
   "source": [
    "import pandas as pd\n",
    "import numpy as np\n",
    "import sys"
   ]
  },
  {
   "cell_type": "code",
   "execution_count": 3,
   "metadata": {},
   "outputs": [],
   "source": [
    "#Read input file\n",
    "data =pd.read_excel(\"Input.xlsx\")\n",
    "\n",
    "data=data[data['Organism'].str.contains(\"Homo sapiens\")] #Selecting only organism which contains 'Homo sapiens'\n",
    "data=data.dropna().reset_index(drop=True) # Drop all rows which contains Not a number and reset the index "
   ]
  },
  {
   "cell_type": "code",
   "execution_count": 4,
   "metadata": {},
   "outputs": [],
   "source": [
    "db =pd.read_excel(\"Input.xlsx\")"
   ]
  },
  {
   "cell_type": "code",
   "execution_count": 5,
   "metadata": {},
   "outputs": [],
   "source": [
    "#Code to find the pattern \n",
    "pattern_position = pd.Series(len(data),dtype=np.str)\n",
    "for i in range(len(data)):\n",
    "    pattern_position[i]=''\n",
    "    \n",
    "for i in range(len(data['Sequence'])):\n",
    "    for j in range(len(data['Sequence'][i])-3):\n",
    "        if(data['Sequence'][i][j]=='C'):\n",
    "            if(data['Sequence'][i][j+3]=='C'):\n",
    "                pattern_position[i]=pattern_position[i]+str(j)+' , '"
   ]
  },
  {
   "cell_type": "code",
   "execution_count": 6,
   "metadata": {},
   "outputs": [],
   "source": [
    "data['Pattern C-X-X-C']= pattern_position"
   ]
  },
  {
   "cell_type": "code",
   "execution_count": 7,
   "metadata": {},
   "outputs": [],
   "source": [
    "data.to_excel('Pattern C-X-X-C.xlsx')"
   ]
  },
  {
   "cell_type": "code",
   "execution_count": 8,
   "metadata": {},
   "outputs": [],
   "source": [
    "#Other Part Reading another file \n",
    "#Bingyun Uses PDB data to check if there are commons in our data and PDB data."
   ]
  },
  {
   "cell_type": "code",
   "execution_count": 21,
   "metadata": {},
   "outputs": [],
   "source": [
    "#Read input file\n",
    "pdb_data =pd.read_csv(\"PDB_chains_updated.tab\",sep='\\t',names=[\"Entry\",\"Sequence\"])\n",
    "pdb_data =pdb_data.dropna().reset_index(drop=True) # Drop all rows which contains Not a number and reset the index "
   ]
  },
  {
   "cell_type": "code",
   "execution_count": 22,
   "metadata": {},
   "outputs": [],
   "source": [
    "for i in range(len(pdb_data)):\n",
    "    pdb_data['Sequence'][i]=pdb_data['Sequence'][i].upper()"
   ]
  },
  {
   "cell_type": "code",
   "execution_count": 63,
   "metadata": {},
   "outputs": [],
   "source": [
    "merge_data= data.merge(pdb_data,on='Sequence', how='inner')"
   ]
  },
  {
   "cell_type": "code",
   "execution_count": 66,
   "metadata": {},
   "outputs": [
    {
     "name": "stdout",
     "output_type": "stream",
     "text": [
      "The commons Sequences are\n",
      "\n",
      "  Entry_x   Entry name    Status  \\\n",
      "0  O00299  CLIC1_HUMAN  reviewed   \n",
      "1  O75880   SCO1_HUMAN  reviewed   \n",
      "2  O95881  TXD12_HUMAN  reviewed   \n",
      "3  A6NC05  YD286_HUMAN  reviewed   \n",
      "4  P13667  PDIA4_HUMAN  reviewed   \n",
      "5  P30048  PRDX3_HUMAN  reviewed   \n",
      "6  O95833  CLIC3_HUMAN  reviewed   \n",
      "7  Q9BRT3  MIEN1_HUMAN  reviewed   \n",
      "8  Q9BRT3  MIEN1_HUMAN  reviewed   \n",
      "\n",
      "                                       Protein names  \\\n",
      "0  Chloride intracellular channel protein 1 (Chlo...   \n",
      "1                Protein SCO1 homolog, mitochondrial   \n",
      "2  Thioredoxin domain-containing protein 12 (EC 1...   \n",
      "3                  Glutaredoxin-like protein C5orf63   \n",
      "4  Protein disulfide-isomerase A4 (EC 5.3.4.1) (E...   \n",
      "5  Thioredoxin-dependent peroxide reductase, mito...   \n",
      "6           Chloride intracellular channel protein 3   \n",
      "7  Migration and invasion enhancer 1 (HBV X-trans...   \n",
      "8  Migration and invasion enhancer 1 (HBV X-trans...   \n",
      "\n",
      "                     Gene names              Organism  Length  \\\n",
      "0                CLIC1 G6 NCC27  Homo sapiens (Human)     241   \n",
      "1                    SCO1 SCOD1  Homo sapiens (Human)     301   \n",
      "2  TXNDC12 TLP19 UNQ713/PRO1376  Homo sapiens (Human)     172   \n",
      "3                       C5orf63  Homo sapiens (Human)     138   \n",
      "4             PDIA4 ERP70 ERP72  Homo sapiens (Human)     645   \n",
      "5                    PRDX3 AOP1  Homo sapiens (Human)     256   \n",
      "6                         CLIC3  Homo sapiens (Human)     236   \n",
      "7     MIEN1 C17orf37 RDX12 XTP4  Homo sapiens (Human)     115   \n",
      "8     MIEN1 C17orf37 RDX12 XTP4  Homo sapiens (Human)     115   \n",
      "\n",
      "                                            Sequence  \\\n",
      "0  MAEEQPQVELFVKAGSDGAKIGNCPFSQRLFMVLWLKGVTFNVTTV...   \n",
      "1  MAMLVLVPGRVMRPLGGQLWRFLPRGLEFWGPAEGTARVLLRQFCA...   \n",
      "2  METRPRLGATCLLGFSFLLLVISSDGHNGLGKGFGDHIHWRTLEDG...   \n",
      "3  MLWFQGNSMQLARSSFGLFLRNCSASKTTLPVLTLFTKDPCPLCDE...   \n",
      "4  MRPRKAFLLLLLLGLVQLLAVAGAEGPDEDSSNRENAIEDEEEEEE...   \n",
      "5  MAAAVGRLLRASVARHVSAIPWGISATAALRPAACGRTSLTNLLCS...   \n",
      "6  MAETKLQLFVKASEDGESVGHCPSCQRLFMVLLLKGVPFTLTTVDT...   \n",
      "7  MSGEPGQTSVAPPPEEVEPGSGVRIVVEYCEPCGFEATYLELASAV...   \n",
      "8  MSGEPGQTSVAPPPEEVEPGSGVRIVVEYCEPCGFEATYLELASAV...   \n",
      "\n",
      "                                      Disulfide bond    Pattern C-X-X-C  \\\n",
      "0  DISULFID 24..59;  /note=\"Alternate\";  /evidenc...                      \n",
      "1  DISULFID 169..173;  /note=\"Redox-active\";  /ev...                      \n",
      "2  DISULFID 66..69;  /note=\"Redox-active\";  /evid...              65 ,    \n",
      "3  DISULFID 41..44;  /note=\"Redox-active\";  /evid...              40 ,    \n",
      "4  DISULFID 91..94;  /note=\"Redox-active\";  /evid...  90 , 205 , 554 ,    \n",
      "5  DISULFID 108;  /note=\"Interchain (with C-229);...                      \n",
      "6  DISULFID 22..25;  /note=\"In soluble form\";  /e...              21 ,    \n",
      "7  DISULFID 30..33;  /note=\"Redox-active\";  /evid...              29 ,    \n",
      "8  DISULFID 30..33;  /note=\"Redox-active\";  /evid...              29 ,    \n",
      "\n",
      "            Entry_y  \n",
      "0            400203  \n",
      "1            HR6804  \n",
      "2            O95881  \n",
      "3  NYSGRC-169168239  \n",
      "4    hsi002003420.1  \n",
      "5            HR6790  \n",
      "6          GO.39329  \n",
      "7          GO.33770  \n",
      "8            HR2522  \n"
     ]
    }
   ],
   "source": [
    "print(\"The commons Sequences are\\n\")\n",
    "print(merge_data)"
   ]
  },
  {
   "cell_type": "code",
   "execution_count": 48,
   "metadata": {},
   "outputs": [],
   "source": [
    "#Merge_data did not give us a positive response as their are only few comman protiens. "
   ]
  },
  {
   "cell_type": "code",
   "execution_count": 67,
   "metadata": {},
   "outputs": [],
   "source": [
    "pdb_data.to_excel('PDB_data_updated.xlsx')\n",
    "merge_data.to_excel('comman_sequences.xlsx')"
   ]
  },
  {
   "cell_type": "code",
   "execution_count": null,
   "metadata": {},
   "outputs": [],
   "source": []
  }
 ],
 "metadata": {
  "kernelspec": {
   "display_name": "Python 3",
   "language": "python",
   "name": "python3"
  },
  "language_info": {
   "codemirror_mode": {
    "name": "ipython",
    "version": 3
   },
   "file_extension": ".py",
   "mimetype": "text/x-python",
   "name": "python",
   "nbconvert_exporter": "python",
   "pygments_lexer": "ipython3",
   "version": "3.7.4"
  }
 },
 "nbformat": 4,
 "nbformat_minor": 2
}
