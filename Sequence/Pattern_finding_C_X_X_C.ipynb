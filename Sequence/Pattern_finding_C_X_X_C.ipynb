{
 "cells": [
  {
   "cell_type": "code",
   "execution_count": 1,
   "metadata": {},
   "outputs": [],
   "source": [
    "import pandas as pd\n",
    "import numpy as np\n",
    "import sys\n",
    "df =pd.read_excel(\"sequenceInput.xlsx\")"
   ]
  },
  {
   "cell_type": "code",
   "execution_count": 2,
   "metadata": {},
   "outputs": [],
   "source": [
    "#Read input file\n",
    "data =pd.read_excel(\"sequenceInput.xlsx\")\n",
    "data=data[data['Organism'].str.contains(\"Homo sapiens\")] #Selecting only organism which contains 'Homo sapiens'\n",
    "data=data.dropna().reset_index(drop=True) # Drop all rows which contains Not a number and reset the index "
   ]
  },
  {
   "cell_type": "code",
   "execution_count": null,
   "metadata": {},
   "outputs": [],
   "source": []
  },
  {
   "cell_type": "code",
   "execution_count": 3,
   "metadata": {},
   "outputs": [],
   "source": [
    "#Code to find the pattern \n",
    "pattern_position = pd.Series(len(data),dtype=np.str)\n",
    "for i in range(len(data)):\n",
    "    pattern_position[i]=''\n",
    "    \n",
    "for i in range(len(data['Sequence'])):\n",
    "    for j in range(len(data['Sequence'][i])-3):\n",
    "        if(data['Sequence'][i][j]=='C'):\n",
    "            if(data['Sequence'][i][j+3]=='C'):\n",
    "                pattern_position[i]=pattern_position[i]+str(j)+' , '"
   ]
  },
  {
   "cell_type": "code",
   "execution_count": 4,
   "metadata": {},
   "outputs": [],
   "source": [
    "data['Pattern C-X-X-C']= pattern_position"
   ]
  },
  {
   "cell_type": "code",
   "execution_count": 5,
   "metadata": {},
   "outputs": [],
   "source": [
    "data.to_excel('Pattern C-X-X-C.xlsx')"
   ]
  },
  {
   "cell_type": "code",
   "execution_count": 6,
   "metadata": {},
   "outputs": [],
   "source": [
    "#Other Part Reading another file "
   ]
  },
  {
   "cell_type": "code",
   "execution_count": 7,
   "metadata": {},
   "outputs": [],
   "source": [
    "#Read input file\n",
    "data1 =pd.read_csv(\"PDB_chains_(SCOP_1.75)_52833.tab\",sep='\\t',names=[\"Entry\",\"Sequence\"])\n",
    "data1=data1.dropna().reset_index(drop=True) # Drop all rows which contains Not a number and reset the index "
   ]
  },
  {
   "cell_type": "code",
   "execution_count": null,
   "metadata": {},
   "outputs": [],
   "source": []
  },
  {
   "cell_type": "code",
   "execution_count": 18,
   "metadata": {},
   "outputs": [],
   "source": [
    "merge_data= pd.merge(data['Sequence'], data1['Sequence'],how='inner')"
   ]
  },
  {
   "cell_type": "code",
   "execution_count": 19,
   "metadata": {},
   "outputs": [
    {
     "data": {
      "text/html": [
       "<div>\n",
       "<style scoped>\n",
       "    .dataframe tbody tr th:only-of-type {\n",
       "        vertical-align: middle;\n",
       "    }\n",
       "\n",
       "    .dataframe tbody tr th {\n",
       "        vertical-align: top;\n",
       "    }\n",
       "\n",
       "    .dataframe thead th {\n",
       "        text-align: right;\n",
       "    }\n",
       "</style>\n",
       "<table border=\"1\" class=\"dataframe\">\n",
       "  <thead>\n",
       "    <tr style=\"text-align: right;\">\n",
       "      <th></th>\n",
       "      <th>Sequence</th>\n",
       "    </tr>\n",
       "  </thead>\n",
       "  <tbody>\n",
       "    <tr>\n",
       "      <td>0</td>\n",
       "      <td>MVKQIESKTAFQEALDAAGDKLVVVDFSATWCGPCKMIKPFFHSLS...</td>\n",
       "    </tr>\n",
       "    <tr>\n",
       "      <td>1</td>\n",
       "      <td>MSYMLPHLHNGWQVDQAILSEEDRVVVIRFGHDWDPTCMKMDEVLY...</td>\n",
       "    </tr>\n",
       "    <tr>\n",
       "      <td>2</td>\n",
       "      <td>MARYEEVSVSGFEEFHRAVEQHNGKTIFAYFTGSKDAGGKSWCPDC...</td>\n",
       "    </tr>\n",
       "    <tr>\n",
       "      <td>3</td>\n",
       "      <td>MAQEFVNCKIQPGKVVVFIKPTCPYCRRAQEILSQLPIKQGLLEFV...</td>\n",
       "    </tr>\n",
       "  </tbody>\n",
       "</table>\n",
       "</div>"
      ],
      "text/plain": [
       "                                            Sequence\n",
       "0  MVKQIESKTAFQEALDAAGDKLVVVDFSATWCGPCKMIKPFFHSLS...\n",
       "1  MSYMLPHLHNGWQVDQAILSEEDRVVVIRFGHDWDPTCMKMDEVLY...\n",
       "2  MARYEEVSVSGFEEFHRAVEQHNGKTIFAYFTGSKDAGGKSWCPDC...\n",
       "3  MAQEFVNCKIQPGKVVVFIKPTCPYCRRAQEILSQLPIKQGLLEFV..."
      ]
     },
     "execution_count": 19,
     "metadata": {},
     "output_type": "execute_result"
    }
   ],
   "source": [
    "merge_data"
   ]
  },
  {
   "cell_type": "code",
   "execution_count": 45,
   "metadata": {},
   "outputs": [
    {
     "data": {
      "text/plain": [
       "0       P04439\n",
       "1       P01911\n",
       "2       P01889\n",
       "3       P08246\n",
       "4       P10144\n",
       "         ...  \n",
       "3583    A8MPY1\n",
       "3584    P28799\n",
       "3585    O00222\n",
       "3586    Q8IXB1\n",
       "3587    O95395\n",
       "Name: Entry, Length: 3588, dtype: object"
      ]
     },
     "execution_count": 45,
     "metadata": {},
     "output_type": "execute_result"
    }
   ],
   "source": []
  },
  {
   "cell_type": "code",
   "execution_count": null,
   "metadata": {},
   "outputs": [],
   "source": []
  }
 ],
 "metadata": {
  "kernelspec": {
   "display_name": "Python 3",
   "language": "python",
   "name": "python3"
  },
  "language_info": {
   "codemirror_mode": {
    "name": "ipython",
    "version": 3
   },
   "file_extension": ".py",
   "mimetype": "text/x-python",
   "name": "python",
   "nbconvert_exporter": "python",
   "pygments_lexer": "ipython3",
   "version": "3.7.4"
  }
 },
 "nbformat": 4,
 "nbformat_minor": 2
}
