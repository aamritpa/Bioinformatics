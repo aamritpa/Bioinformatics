{
 "cells": [
  {
   "cell_type": "code",
   "execution_count": 5,
   "metadata": {},
   "outputs": [],
   "source": [
    "import numpy as np\n",
    "import pandas as pd\n",
    "import re \n",
    "import matplotlib.pyplot as plt \n",
    "import sys\n",
    "import time\n",
    "\n",
    "#Input file must be given to run the code.\n",
    "#For Example Run(in terminal) 'python3 Bioinformatics input.xlsx'\n",
    "\n",
    "#Filename =sys.argv[1] # Read input file \n",
    "\n",
    "df = pd.read_excel('Input.xlsx')# Read EXCEL Files and storing in database 'df'\n",
    "data= pd.DataFrame()# Creating New Data Frame \n",
    "glyco_sulfide_frame= pd.DataFrame()   #Data Frame which contains Glycosilation and sulfide."
   ]
  },
  {
   "cell_type": "code",
   "execution_count": null,
   "metadata": {},
   "outputs": [],
   "source": []
  },
  {
   "cell_type": "code",
   "execution_count": 6,
   "metadata": {},
   "outputs": [],
   "source": [
    "# Storing Usefull information From the database 'df' \n",
    "data['Entry']=df['Entry'] #Storing Entry\n",
    "data['Entry name']=df['Entry name']  #Storing Entry Name\n",
    "data['Protein names']=df['Protein names']  #Storing Protein Names\n",
    "data['Gene names']=df['Gene names'] # Storing Gene Names\n",
    "data['Length']=df['Length'] # Storing Length\n",
    "data['Organism']=df['Organism'] # Storing Type of Organism\n",
    "data['Mass']=df['Mass'] #Storing Mass\n",
    "data['Status']=df['Status']\n",
    "\n",
    "#Now removing the extra data we dont need and containg only organism 'Human'\n",
    "human_data=data[data['Organism'].str.contains(\"Homo sapiens\")] #Selecting only organism which contains 'Homo sapiens'\n",
    "data= human_data\n",
    "\n",
    "data['Disulfide bond']=df['Disulfide bond'] # Storing Disulfide bond \n",
    "data['Glycosylation']= df['Glycosylation']# Storing Glycosylation Position\n",
    "\n",
    "\n",
    "dataframe1 = data[data['Glycosylation'].notna()].reset_index(drop=True) #Droping the NAN terms in Gycosylation only\n",
    "dataframe2 = data[data['Disulfide bond'].notna()].reset_index(drop=True)#Droping the NAN terms in Disulfide  only\n",
    "dataframe3 = data.dropna().reset_index(drop=True) # #Droping all the NAN terms \n",
    "dataframe1=dataframe1.fillna(0)\n",
    "dataframe2=dataframe2.fillna(0)"
   ]
  },
  {
   "cell_type": "code",
   "execution_count": null,
   "metadata": {},
   "outputs": [],
   "source": []
  },
  {
   "cell_type": "code",
   "execution_count": 7,
   "metadata": {},
   "outputs": [],
   "source": [
    "def get_sulfide_value(newdata):\n",
    "        return re.findall('\\d+\\..\\d+',newdata)\n",
    "    \n",
    "def get_int_value(data):        #function defined for global purpose use to get integer values for any column.\n",
    "    return re.findall('\\d+',data)\n",
    "\n",
    "def get_float_value(data):\n",
    "    return re.findall('\\d+\\.\\d+',data)\n",
    "\n",
    "def get_Nlinked_GlcNAc(data):\n",
    "    return re.findall('\\d+;  /note=\"N-linked \\(GlcNAc...\\) asparagine\"',data)\n",
    "\n",
    "def get_Nlinked_Glc(data):\n",
    "    return re.findall('\\d+;  /note=\"N-linked \\(Glc\\)',data)\n",
    "\n",
    "def get_OLinked(data):\n",
    "    return re.findall('\\d+\\;  /note=\\\"O-linked',data)"
   ]
  },
  {
   "cell_type": "code",
   "execution_count": 8,
   "metadata": {},
   "outputs": [],
   "source": [
    "def seperateFrameBy_NAN(newdata):\n",
    "    \n",
    "    # Working on getting the relative positions of the Disulfide bond\n",
    "    temp_disulfide= newdata['Disulfide bond'].astype(str) # Storing data temporary as 'disulfide_column'\n",
    "    disulfide_column= newdata['Disulfide bond'].astype(str)\n",
    "    bond= temp_disulfide.apply(get_sulfide_value) # Function call which gives all the positons \n",
    "    glyco_sulfide_frame['bond']=bond\n",
    "    \n",
    "    newdata['Disulfide bond']=disulfide_column.apply(get_sulfide_value)# Storing extracted disulfide value in data Frame.\n",
    "\n",
    "\n",
    "    data1= newdata['Glycosylation'].astype(str) # Storing data temporary as 'Glyco_data'\n",
    "    newdata['Glycosylation_GlcNac']= data1.apply(get_Nlinked_GlcNAc) # the return data with 'N-linked (GlcNAc...)'\n",
    "\n",
    "    data2= newdata['Glycosylation'].astype(str)\n",
    "    newdata['Glycosylation_Nlinked_Glc']=data2.apply(get_Nlinked_Glc)\n",
    "\n",
    "    data3= newdata['Glycosylation'].astype(str)\n",
    "    newdata['Glycosylation_Olinked']=data3.apply(get_OLinked)\n",
    "\n",
    "    #Now Removing the extra word 'CARBOHYD' and getting all positions of Glycosylation.\n",
    "    temp_data= newdata['Glycosylation_GlcNac'].astype(str)\n",
    "    newdata['Glycosylation_Nlinked_GlcNac']= temp_data.apply(get_int_value) \n",
    "\n",
    "    temp_data= newdata['Glycosylation_Nlinked_Glc'].astype(str)\n",
    "    newdata['Glycosylation_Nlinked_Glc']= temp_data.apply(get_int_value) \n",
    "\n",
    "    temp_data= newdata['Glycosylation_Olinked'].astype(str)\n",
    "    newdata['Glycosylation_Olinked']= temp_data.apply(get_int_value)\n",
    "    \n",
    "    return newdata"
   ]
  },
  {
   "cell_type": "code",
   "execution_count": 9,
   "metadata": {},
   "outputs": [],
   "source": [
    "dataframe1=seperateFrameBy_NAN(dataframe1)\n",
    "dataframe2=seperateFrameBy_NAN(dataframe2)\n",
    "dataframe3=seperateFrameBy_NAN(dataframe3)"
   ]
  },
  {
   "cell_type": "code",
   "execution_count": 10,
   "metadata": {},
   "outputs": [],
   "source": [
    "dataframe1.to_excel('Glycosylation_data_with_dropped_Glyco_NAN_terms.xlsx')\n",
    "dataframe2.to_excel('Glycosylation_data_with_dropped_Sulfide_NAN_terms.xlsx')\n",
    "dataframe3.to_excel('Glycosylation_data_with_all_NAN_dropped.xlsx')"
   ]
  },
  {
   "cell_type": "code",
   "execution_count": null,
   "metadata": {},
   "outputs": [],
   "source": []
  },
  {
   "cell_type": "code",
   "execution_count": null,
   "metadata": {},
   "outputs": [],
   "source": [
    "\n"
   ]
  },
  {
   "cell_type": "code",
   "execution_count": null,
   "metadata": {},
   "outputs": [],
   "source": []
  }
 ],
 "metadata": {
  "kernelspec": {
   "display_name": "Python 3",
   "language": "python",
   "name": "python3"
  },
  "language_info": {
   "codemirror_mode": {
    "name": "ipython",
    "version": 3
   },
   "file_extension": ".py",
   "mimetype": "text/x-python",
   "name": "python",
   "nbconvert_exporter": "python",
   "pygments_lexer": "ipython3",
   "version": "3.7.4"
  }
 },
 "nbformat": 4,
 "nbformat_minor": 2
}
